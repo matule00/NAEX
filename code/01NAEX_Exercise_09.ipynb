{
  "nbformat": 4,
  "nbformat_minor": 0,
  "metadata": {
    "colab": {
      "private_outputs": true,
      "provenance": [],
      "include_colab_link": true
    },
    "kernelspec": {
      "name": "python3",
      "display_name": "Python 3"
    },
    "language_info": {
      "name": "python"
    }
  },
  "cells": [
    {
      "cell_type": "markdown",
      "metadata": {
        "id": "view-in-github",
        "colab_type": "text"
      },
      "source": [
        "<a href=\"https://colab.research.google.com/github/matule00/NAEX/blob/main/code/01NAEX_Exercise_09.ipynb\" target=\"_parent\"><img src=\"https://colab.research.google.com/assets/colab-badge.svg\" alt=\"Open In Colab\"/></a>"
      ]
    },
    {
      "cell_type": "markdown",
      "source": [
        "\n",
        "# O1NAEX Exercise 09\n",
        "\n",
        "author: Matěj Trödler"
      ],
      "metadata": {
        "id": "SJRUeUJPrezp"
      }
    },
    {
      "cell_type": "markdown",
      "source": [
        "##\tProblem 11.8\n",
        "from the chapter 11 -  D. C. Montgomery DAoE - 8. edition.\n",
        "\n",
        "The data  were collected in\tan experiment to optimize crystal growth as a function of\tthree variables $x_1$, $x_2$, and $x_3$. Large values of y (`Yield` in grams)\tare desirable. Fit a second-order model and analyze the fitted surface. Under what set of conditions is maximum growth achieved?"
      ],
      "metadata": {
        "id": "_lYQT0wrrb3V"
      }
    },
    {
      "cell_type": "code",
      "source": [
        "import pandas as pd\n",
        "import numpy as np\n",
        "import matplotlib.pyplot as plt\n",
        "from statsmodels.formula.api import ols\n",
        "from statsmodels.stats.anova import anova_lm\n",
        "from matplotlib.patches import Patch\n",
        "from matplotlib.lines import Line2D"
      ],
      "metadata": {
        "id": "H0R5Jtyxpf-t"
      },
      "execution_count": null,
      "outputs": []
    },
    {
      "cell_type": "code",
      "source": [
        "df118 = pd.read_csv(\"https://raw.githubusercontent.com/francji1/01NAEX/main/data/Ex118.csv\", sep=\";\")\n",
        "df118"
      ],
      "metadata": {
        "id": "p6rgXxlgBxUT"
      },
      "execution_count": null,
      "outputs": []
    },
    {
      "cell_type": "code",
      "source": [
        "model = ols('Yield ~ x1 + x2 + x3 + I(x1**2) + I(x2**2) + I(x3**2) + x1:x2 + x1:x3 + x2:x3', data=df118).fit()\n",
        "#anova_results = anova_lm(model)\n",
        "#print(anova_results)\n",
        "\n",
        "print(model.summary())"
      ],
      "metadata": {
        "id": "ZdlSiXZlHjWM"
      },
      "execution_count": null,
      "outputs": []
    },
    {
      "cell_type": "markdown",
      "source": [
        "All interactions seem to be nonsignificant, therefore we will remove them from the model."
      ],
      "metadata": {
        "id": "G6xncWGZsBTr"
      }
    },
    {
      "cell_type": "code",
      "source": [
        "model_reduced = ols('Yield ~ x2 + x3 + I(x2**2) + I(x3**2)', data=df118).fit()\n",
        "\n",
        "print(model_reduced.summary())\n",
        "print(anova_lm(model_reduced))"
      ],
      "metadata": {
        "id": "VyQS8xN_o3Q-"
      },
      "execution_count": null,
      "outputs": []
    },
    {
      "cell_type": "code",
      "source": [
        "anova_compare = anova_lm(model_reduced, model)\n",
        "print(anova_compare)"
      ],
      "metadata": {
        "id": "MLTouUtatZib"
      },
      "execution_count": null,
      "outputs": []
    },
    {
      "cell_type": "code",
      "source": [
        "import pandas as pd\n",
        "import numpy as np\n",
        "import matplotlib.pyplot as plt\n",
        "\n",
        "# Define the ranges for x2 and x3\n",
        "x2_range = np.linspace(df118['x2'].min(), df118['x2'].max(), 100)\n",
        "x3_range = np.linspace(df118['x3'].min(), df118['x3'].max(), 100)\n",
        "\n",
        "# Create a grid of x2 and x3 values\n",
        "x2_grid, x3_grid = np.meshgrid(x2_range, x3_range)\n",
        "\n",
        "# Fix x1 at a constant value (e.g., the center of its range)\n",
        "x1_fixed = 0  # Center point for x1\n",
        "\n",
        "# Prepare a DataFrame for prediction\n",
        "grid_data = pd.DataFrame({\n",
        "    'x2': x2_grid.ravel(),\n",
        "    'x3': x3_grid.ravel(),\n",
        "    'I(x2**2)': x2_grid.ravel()**2,\n",
        "    'I(x3**2)': x3_grid.ravel()**2,\n",
        "})\n",
        "\n",
        "# Predict the response (Yield) for the grid\n",
        "y_pred = model_reduced.predict(grid_data).values.reshape(x2_grid.shape)\n",
        "\n",
        "max_value = y_pred.max()\n",
        "max_index = np.unravel_index(np.argmax(y_pred, axis=None), y_pred.shape)\n",
        "max_x2, max_x3 = x2_grid[max_index], x3_grid[max_index]\n",
        "max_conditions = pd.DataFrame({\n",
        "    'x2': [max_x2],\n",
        "    'x3': [max_x3],\n",
        "    'I(x2**2)': [max_x2**2],\n",
        "    'I(x3**2)': [max_x3**2]})\n",
        "\n",
        "prediction = model_reduced.get_prediction(max_conditions)\n",
        "prediction_summary = prediction.summary_frame(alpha=0.05)  # 95% CI\n",
        "predicted_max = prediction_summary['mean'].iloc[0]\n",
        "ci_lower = prediction_summary['mean_ci_lower'].iloc[0]\n",
        "ci_upper = prediction_summary['mean_ci_upper'].iloc[0]\n",
        "\n",
        "print('Maximal value prediction 95% CI:\\n', prediction_summary.to_string(index=False), '\\n')\n",
        "\n",
        "print(\"Conditions for Maximum Yield:\")\n",
        "print(max_conditions[['x2', 'x3']].to_string(index=False))\n",
        "\n",
        "\n",
        "# Create the contour plot\n",
        "plt.figure(figsize=(10, 6))\n",
        "contour = plt.contourf(x2_grid, x3_grid, y_pred, levels=20, cmap='viridis')\n",
        "plt.scatter(max_x2, max_x3, color='green', s=100, marker='o', label=f'Max Yield = {predicted_max:.2f}\\n95% CI: ({ci_lower:.2f}, {ci_upper:.2f})')\n",
        "plt.colorbar(contour, label='Predicted Yield')\n",
        "plt.scatter(df118['x2'], df118['x3'], color='red', label='Design Points')\n",
        "plt.xlabel('x2')\n",
        "plt.ylabel('x3')\n",
        "plt.title(f'Contour Plot of Yield (x1={x1_fixed})')\n",
        "plt.legend(loc='best')\n",
        "plt.show()"
      ],
      "metadata": {
        "id": "uBFWqv0RtAtZ"
      },
      "execution_count": null,
      "outputs": []
    },
    {
      "cell_type": "code",
      "source": [
        "max_observed = df118.loc[df118['Yield'].idxmax()]\n",
        "max_conditions = pd.DataFrame({\n",
        "    'x2': [max_observed['x2']],\n",
        "    'x3': [max_observed['x3']],\n",
        "    'I(x2**2)': [max_observed['x2']**2],\n",
        "    'I(x3**2)': [max_observed['x3']**2]\n",
        "})\n",
        "\n",
        "prediction = model_reduced.get_prediction(max_conditions)\n",
        "prediction_summary = prediction.summary_frame(alpha=0.05)  # alpha=0.05 for 95% CI\n",
        "print(\"\\nPrediction with 95% Confidence Interval:\")\n",
        "print(prediction_summary.to_string(index=False))"
      ],
      "metadata": {
        "id": "u_JmmKeqvImL"
      },
      "execution_count": null,
      "outputs": []
    },
    {
      "cell_type": "markdown",
      "source": [
        "##\tProblem 11.12\n",
        "from the chapter 11 -  D. C. Montgomery DAoE - 8. edition.\n",
        "\n",
        "Consider the three-variable central composite design. Analyze the data and draw conclusions, assuming that we wish to maximize `Conversion` ($y_1$) with\t\t\t`Activity` ($y_2$) between 55 and 60\tachieved?"
      ],
      "metadata": {
        "id": "oA3Z3QG_HjqU"
      }
    },
    {
      "cell_type": "code",
      "source": [
        "df1112 = pd.read_csv(\"https://raw.githubusercontent.com/francji1/01NAEX/main/data/Ex1112.csv\", sep=\";\")\n",
        "df1112"
      ],
      "metadata": {
        "id": "fxD9HMoPrbHg"
      },
      "execution_count": null,
      "outputs": []
    },
    {
      "cell_type": "markdown",
      "source": [
        "Time seems to be nonsignificant in almost all terms - in linear, quadratic and also an interaction with Temperature"
      ],
      "metadata": {
        "id": "HTgW9bh2ys4H"
      }
    },
    {
      "cell_type": "code",
      "source": [
        "model_conversion = ols('Conversion ~ Time + Temperature + Catalyst + I(Time**2) + I(Temperature**2) + I(Catalyst**2) + Time:Temperature + Time:Catalyst + Temperature:Catalyst', data=df1112).fit()\n",
        "print(model_conversion.summary())"
      ],
      "metadata": {
        "id": "pE5TJpklrbPN"
      },
      "execution_count": null,
      "outputs": []
    },
    {
      "cell_type": "code",
      "source": [
        "model_activity_full = ols('Activity ~ Time + Temperature + Catalyst + I(Time**2) + I(Temperature**2) + I(Catalyst**2) + Time:Temperature + Time:Catalyst + Temperature:Catalyst', data=df1112).fit()\n",
        "print(model_activity_full.summary())"
      ],
      "metadata": {
        "id": "dZQXLcEArgAW"
      },
      "execution_count": null,
      "outputs": []
    },
    {
      "cell_type": "markdown",
      "source": [
        "Since there are many nonsignificant terms, let's try to use the simplier model."
      ],
      "metadata": {
        "id": "_LvzT9yNr2dp"
      }
    },
    {
      "cell_type": "code",
      "source": [
        "model_activity = ols('Activity ~ Time + Catalyst + I(Time**2)', data=df1112).fit()\n",
        "print(model_activity.summary())"
      ],
      "metadata": {
        "id": "2F26bckauxvB"
      },
      "execution_count": null,
      "outputs": []
    },
    {
      "cell_type": "code",
      "source": [
        "anova_activity = anova_lm(model_activity, model_activity_full)\n",
        "print(anova_activity)"
      ],
      "metadata": {
        "id": "2nH_btiSsVze"
      },
      "execution_count": null,
      "outputs": []
    },
    {
      "cell_type": "code",
      "source": [
        "time_range = np.linspace(df1112['Time'].min(), df1112['Time'].max(), 100)\n",
        "catalyst_range = np.linspace(df1112['Catalyst'].min(), df1112['Catalyst'].max(), 100)\n",
        "\n",
        "time_grid, catalyst_grid = np.meshgrid(time_range, catalyst_range)\n",
        "\n",
        "temperature_fixed = -1  # Center point for Temperature\n",
        "\n",
        "grid_data = pd.DataFrame({\n",
        "    'Time': time_grid.ravel(),\n",
        "    'Temperature': temperature_fixed,\n",
        "    'Catalyst': catalyst_grid.ravel(),\n",
        "    'I(Time**2)': time_grid.ravel()**2,\n",
        "    'I(Temperature**2)': temperature_fixed**2,\n",
        "    'I(Catalyst**2)': catalyst_grid.ravel()**2,\n",
        "    'Time:Temperature': time_grid.ravel() * temperature_fixed,\n",
        "    'Time:Catalyst': time_grid.ravel() * catalyst_grid.ravel(),\n",
        "    'Temperature:Catalyst': temperature_fixed * catalyst_grid.ravel()\n",
        "})\n",
        "\n",
        "# Predict the response (Conversion) for the grid\n",
        "y_pred_conversion = model_conversion.predict(grid_data).values.reshape(time_grid.shape)\n",
        "\n",
        "# Create the contour plot\n",
        "plt.figure(figsize=(10, 6))\n",
        "contour = plt.contourf(time_grid, catalyst_grid, y_pred_conversion, levels=20, cmap='viridis')\n",
        "plt.colorbar(contour, label='Predicted Conversion')\n",
        "plt.scatter(df1112['Time'], df1112['Catalyst'], color='red', label='Design Points')\n",
        "plt.xlabel('Time')\n",
        "plt.ylabel('Catalyst')\n",
        "plt.title(f'Contour Plot of Conversion (Temperature={temperature_fixed})')\n",
        "plt.legend(loc='best')\n",
        "plt.show()"
      ],
      "metadata": {
        "id": "ua0xieR511LS"
      },
      "execution_count": null,
      "outputs": []
    },
    {
      "cell_type": "code",
      "source": [
        "y_pred_activity = model_activity.predict(grid_data).values.reshape(time_grid.shape)\n",
        "\n",
        "plt.figure(figsize=(10, 6))\n",
        "contour = plt.contourf(time_grid, catalyst_grid, y_pred_activity, levels=20, cmap='viridis')\n",
        "plt.colorbar(contour, label='Predicted Conversion')\n",
        "plt.scatter(df1112['Time'], df1112['Catalyst'], color='red', label='Design Points')\n",
        "plt.xlabel('Time')\n",
        "plt.ylabel('Catalyst')\n",
        "plt.title(f'Contour Plot of Conversion (Temperature={temperature_fixed})')\n",
        "plt.legend(loc='best')\n",
        "plt.show()"
      ],
      "metadata": {
        "id": "JheeFAbg2uQ7"
      },
      "execution_count": null,
      "outputs": []
    },
    {
      "cell_type": "code",
      "source": [
        "plt.figure(figsize=(12, 8))\n",
        "\n",
        "contour_conversion = plt.contourf(time_grid, catalyst_grid, y_pred_conversion, levels=40, cmap='viridis', alpha=0.6)\n",
        "plt.clabel(contour_conversion, inline=True, fontsize=8, fmt='%1.1f', colors='blue')\n",
        "plt.colorbar(contour_conversion, label='Predicted Conversion')\n",
        "\n",
        "contour_activity = plt.contour(time_grid, catalyst_grid, y_pred_activity, levels=np.linspace(50, 65, 7), colors='black', linewidths=2)\n",
        "plt.clabel(contour_activity, inline=True, fontsize=8, fmt='%1.1f', colors='black')\n",
        "activity = Line2D([0], [0], color='black', linewidth=2, label='Predicted Activity')\n",
        "\n",
        "plt.contourf(time_grid, catalyst_grid, y_pred_activity,\n",
        "             levels=[55, 60],\n",
        "             colors='black', alpha=0.15)\n",
        "red_patch = Patch(color='black', alpha=0.15, label='Activity Range (55-60)')\n",
        "\n",
        "plt.scatter(df1112['Time'], df1112['Catalyst'], color='red', label='Design Points')\n",
        "design_points = Line2D([0], [0], color='red', marker='o', linestyle='None', label='Design Points')\n",
        "\n",
        "\n",
        "activity_mask = (y_pred_activity >= 55) & (y_pred_activity <= 60)\n",
        "conversion_max_in_activity = np.max(y_pred_conversion[activity_mask])\n",
        "\n",
        "plt.contourf(time_grid, catalyst_grid, np.where(activity_mask, y_pred_conversion, np.nan),  # Restrict Conversion to Activity mask\n",
        "             levels=[80, conversion_max_in_activity],  # Small band for visualization\n",
        "             colors='blue',\n",
        "             alpha=0.15)\n",
        "blue_patch = Patch(color='blue', alpha=0.15, label='Maximum on Activity Range')\n",
        "\n",
        "print('Maximum conversion in activity range:', round(conversion_max_in_activity, 3), '\\n')\n",
        "\n",
        "max_indices = np.where(y_pred_conversion == conversion_max_in_activity)\n",
        "max_time = time_grid[max_indices][0]  # Time value at max\n",
        "max_catalyst = catalyst_grid[max_indices][0]  # Catalyst value at max\n",
        "\n",
        "print(f\"Conditions for such maximum:\\nTime: {round(max_time ,4)}, \\nCatalyst: {round(max_catalyst, 4)}\")\n",
        "\n",
        "\n",
        "#Scatter the maximum on the Activity range\n",
        "max_indices = np.where(y_pred_conversion == conversion_max_in_activity)\n",
        "max_time = time_grid[max_indices][0]  # Corresponding 'Time'\n",
        "max_catalyst = catalyst_grid[max_indices][0]  # Corresponding 'Catalyst'\n",
        "plt.scatter(max_time, max_catalyst, color='blue', s=100, marker='o', label='Max Conversion on Activity Range')\n",
        "maximum = Line2D([0], [0], color='blue', marker='o', linestyle='None', label='Max Conversion on Activity Range')\n",
        "\n",
        "plt.xlabel('Time')\n",
        "plt.ylabel('Catalyst')\n",
        "plt.title('Overlay Plot: Conversion and Activity')\n",
        "plt.legend(loc='best', handles=[blue_patch, red_patch, design_points, maximum, activity])\n",
        "plt.show()"
      ],
      "metadata": {
        "id": "WQwm4Y1G5Txi"
      },
      "execution_count": null,
      "outputs": []
    }
  ]
}